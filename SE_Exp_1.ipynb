{
  "nbformat": 4,
  "nbformat_minor": 0,
  "metadata": {
    "colab": {
      "provenance": [],
      "authorship_tag": "ABX9TyN9IXDJ1qh3CSM2JpBfIFRF",
      "include_colab_link": true
    },
    "kernelspec": {
      "name": "python3",
      "display_name": "Python 3"
    },
    "language_info": {
      "name": "python"
    }
  },
  "cells": [
    {
      "cell_type": "markdown",
      "metadata": {
        "id": "view-in-github",
        "colab_type": "text"
      },
      "source": [
        "<a href=\"https://colab.research.google.com/github/OmegaKavya/Software_Engineering/blob/main/SE_Exp_1.ipynb\" target=\"_parent\"><img src=\"https://colab.research.google.com/assets/colab-badge.svg\" alt=\"Open In Colab\"/></a>"
      ]
    },
    {
      "cell_type": "markdown",
      "source": [
        "1. 1.Implement weather modeling* using the quadratic solution in stages: hard-coding variables keyboard input, read from a file, for a single set of input, multiple sets of inputs."
      ],
      "metadata": {
        "id": "Fdll8hrcG_Zx"
      }
    },
    {
      "cell_type": "code",
      "execution_count": 2,
      "metadata": {
        "id": "kfknkZYdG0hF"
      },
      "outputs": [],
      "source": [
        "def temp_modeling(a,b,c,time):\n",
        "  temp = a*time**2 + b*time + c\n",
        "  return temp"
      ]
    },
    {
      "cell_type": "markdown",
      "source": [
        "Hardcoded Variables"
      ],
      "metadata": {
        "id": "gr5nBDd_H-nG"
      }
    },
    {
      "cell_type": "code",
      "source": [
        "a=1\n",
        "b=2\n",
        "c=3\n",
        "time=5"
      ],
      "metadata": {
        "id": "foikDBnKH9CV"
      },
      "execution_count": 3,
      "outputs": []
    },
    {
      "cell_type": "code",
      "source": [
        "print(\"temperature for hard-coded variables\")\n",
        "print(f\"temperature for harcoded coefficients at time {time} hours: {temp_modeling(a,b,c,time)}\")"
      ],
      "metadata": {
        "colab": {
          "base_uri": "https://localhost:8080/"
        },
        "id": "zm0tEFF3JGNy",
        "outputId": "2d4eb664-f96f-4bdc-fc3a-942ffddc1e94"
      },
      "execution_count": 12,
      "outputs": [
        {
          "output_type": "stream",
          "name": "stdout",
          "text": [
            "temperature for hard-coded variables\n",
            "temperature for harcoded coefficients at time 5 hours: 38.0\n"
          ]
        }
      ]
    },
    {
      "cell_type": "code",
      "source": [
        "a,b,c=(input(\"Enter coefficients a,b,c separated by space: \")).split( )\n",
        "a= float(a)\n",
        "b=float(b)\n",
        "c=float(c)"
      ],
      "metadata": {
        "colab": {
          "base_uri": "https://localhost:8080/"
        },
        "id": "NYYR0BJyJ7FC",
        "outputId": "da2a8d8d-01d0-4a85-90cd-9b4ddfe21b91"
      },
      "execution_count": 13,
      "outputs": [
        {
          "name": "stdout",
          "output_type": "stream",
          "text": [
            "Enter coefficients a,b,c separated by space: 1 2 3\n"
          ]
        }
      ]
    },
    {
      "cell_type": "code",
      "source": [
        "time=float(input(\"Enter time: \"))"
      ],
      "metadata": {
        "colab": {
          "base_uri": "https://localhost:8080/"
        },
        "id": "2l4kgQE4KrEF",
        "outputId": "ea67f9e6-6ad8-4259-ded6-24d6f37f8de6"
      },
      "execution_count": 14,
      "outputs": [
        {
          "name": "stdout",
          "output_type": "stream",
          "text": [
            "Enter time: 5\n"
          ]
        }
      ]
    },
    {
      "cell_type": "code",
      "source": [
        "print(\"Temperature for keyboard entered coefficients\")\n",
        "print(f\"temperature for keyboard entered coefficients at time {time} hours: {temp_modeling(a,b,c,time)}\")"
      ],
      "metadata": {
        "colab": {
          "base_uri": "https://localhost:8080/"
        },
        "id": "cnwsJ3vCKxdL",
        "outputId": "05f81059-36dc-467d-82a1-073a2cade82b"
      },
      "execution_count": 15,
      "outputs": [
        {
          "output_type": "stream",
          "name": "stdout",
          "text": [
            "Temperature for keyboard entered coefficients\n",
            "temperature for keyboard entered coefficients at time 5.0 hours: 38.0\n"
          ]
        }
      ]
    },
    {
      "cell_type": "code",
      "source": [
        "def file_read(filename):\n",
        "  with open (filename, 'r') as temp_file:\n",
        "    lines = temp_file.readlines()\n",
        "  coefficients = [tuple(map(float, line.strip().split(','))) for line in lines]\n",
        "  return coefficients"
      ],
      "metadata": {
        "id": "CVt1qKDZLTXt"
      },
      "execution_count": 34,
      "outputs": []
    },
    {
      "cell_type": "markdown",
      "source": [
        "For single set of inputs"
      ],
      "metadata": {
        "id": "ja0xwMNJL9Lf"
      }
    },
    {
      "cell_type": "code",
      "source": [
        "coefficients = file_read('/content/weather_modeling.txt')\n",
        "a, b, c, time = coefficients[0]\n",
        "temp1 = temp_modeling(a,b,c,time)\n",
        "print(\"Temperature for single set of inputs from a file\")\n",
        "print(f\"temperature for single set of inputs from file coefficients at time {time} hours: {temp1}\")"
      ],
      "metadata": {
        "colab": {
          "base_uri": "https://localhost:8080/"
        },
        "id": "ccxU4V6QL6-_",
        "outputId": "34dc00ef-eb62-4b07-95c3-af74949f2135"
      },
      "execution_count": 36,
      "outputs": [
        {
          "output_type": "stream",
          "name": "stdout",
          "text": [
            "Temperature for single set of inputs from a file\n",
            "temperature for single set of inputs from file coefficients at time 5.0 hours: 38.0\n"
          ]
        }
      ]
    },
    {
      "cell_type": "markdown",
      "source": [
        "Multiple Inputs"
      ],
      "metadata": {
        "id": "x2ygu5nlPeA0"
      }
    },
    {
      "cell_type": "code",
      "source": [
        "for i, (a, b, c, time) in enumerate(coefficients):\n",
        "  temp2 = temp_modeling(a,b,c,time)\n",
        "  print(f\"temperature for multiple set of inputs from file coefficients at time {time} hours: {temp2}\")"
      ],
      "metadata": {
        "colab": {
          "base_uri": "https://localhost:8080/"
        },
        "id": "CBslZ-Y9PfXg",
        "outputId": "acdb50ac-cd0f-4dbe-ed0b-c923cd7ceffc"
      },
      "execution_count": 37,
      "outputs": [
        {
          "output_type": "stream",
          "name": "stdout",
          "text": [
            "temperature for multiple set of inputs from file coefficients at time 5.0 hours: 38.0\n",
            "temperature for multiple set of inputs from file coefficients at time 10.0 hours: 234.0\n"
          ]
        }
      ]
    }
  ]
}