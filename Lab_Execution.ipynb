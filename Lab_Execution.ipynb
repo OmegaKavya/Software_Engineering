{
  "nbformat": 4,
  "nbformat_minor": 0,
  "metadata": {
    "colab": {
      "provenance": [],
      "authorship_tag": "ABX9TyO65Qo2BAZtdE5AVxdoap7L",
      "include_colab_link": true
    },
    "kernelspec": {
      "name": "python3",
      "display_name": "Python 3"
    },
    "language_info": {
      "name": "python"
    }
  },
  "cells": [
    {
      "cell_type": "markdown",
      "metadata": {
        "id": "view-in-github",
        "colab_type": "text"
      },
      "source": [
        "<a href=\"https://colab.research.google.com/github/OmegaKavya/Software_Engineering/blob/main/Lab_Execution.ipynb\" target=\"_parent\"><img src=\"https://colab.research.google.com/assets/colab-badge.svg\" alt=\"Open In Colab\"/></a>"
      ]
    },
    {
      "cell_type": "code",
      "execution_count": 1,
      "metadata": {
        "id": "uVzcEQ920l0O"
      },
      "outputs": [],
      "source": [
        "def temp_model(a,b,c,time):\n",
        "  temp = a*time**2 + b*time + c\n",
        "  return temp"
      ]
    },
    {
      "cell_type": "code",
      "source": [
        "#Hard Coded Variables\n",
        "a=1\n",
        "b=2\n",
        "c=3\n",
        "time=4\n",
        "print(\"The temperature using Hard coded variables\")\n",
        "print(f\" Temp is: {temp_model(a,b,c,time)}\")"
      ],
      "metadata": {
        "colab": {
          "base_uri": "https://localhost:8080/"
        },
        "id": "1nH-u_sR0xVt",
        "outputId": "ae68a3cd-5148-444a-da4b-aa68d4ba68e9"
      },
      "execution_count": 3,
      "outputs": [
        {
          "output_type": "stream",
          "name": "stdout",
          "text": [
            "The temperature using Hard coded variables\n",
            " Temp is: 27\n"
          ]
        }
      ]
    },
    {
      "cell_type": "code",
      "source": [
        "#Keyboard Input\n",
        "a,b,c,time= input(\"Enter a,b,c,time: \").split()\n",
        "a=int(a)\n",
        "b=int(b)\n",
        "c=int(c)\n",
        "time=int(time)\n",
        "print(\"The temperature using Keyboard Input\")\n",
        "print(f\" Temp is: {temp_model(a,b,c,time)}\")"
      ],
      "metadata": {
        "colab": {
          "base_uri": "https://localhost:8080/"
        },
        "id": "hVjCAOLD1T_2",
        "outputId": "738dd8c8-40c2-4598-dbd3-c8fed1fdf88f"
      },
      "execution_count": 5,
      "outputs": [
        {
          "output_type": "stream",
          "name": "stdout",
          "text": [
            "Enter a,b,c,time: 3 4 5 2\n",
            "The temperature using Keyboard Input\n",
            " Temp is: 25\n"
          ]
        }
      ]
    },
    {
      "cell_type": "code",
      "source": [
        "#Reading a File\n",
        "def file_read(filename):\n",
        "  with open(filename,'r') as f:\n",
        "    lines = f.readlines()\n",
        "    coefficients = [tuple(map(float,lines.strip().split(\",\"))) for lines in lines]\n",
        "  return coefficients"
      ],
      "metadata": {
        "id": "JhciTRRx1oQc"
      },
      "execution_count": 7,
      "outputs": []
    },
    {
      "cell_type": "code",
      "source": [
        "#Single Set of Inputs\n",
        "coefficients=file_read(\"/content/se_lab_exam.csv\")\n",
        "a,b,c,time=coefficients[0]\n",
        "print(\"The temperature using Single Set of Inputs\")\n",
        "print(f\" Temp is: {temp_model(a,b,c,time)}\")"
      ],
      "metadata": {
        "colab": {
          "base_uri": "https://localhost:8080/"
        },
        "id": "8whvFULC2Dg9",
        "outputId": "ac3ded5e-b0b3-4705-986a-72b75dc8e6c1"
      },
      "execution_count": 8,
      "outputs": [
        {
          "output_type": "stream",
          "name": "stdout",
          "text": [
            "The temperature using Single Set of Inputs\n",
            " Temp is: 38.0\n"
          ]
        }
      ]
    },
    {
      "cell_type": "code",
      "source": [
        "#Multiple Inputs\n",
        "for i,(a,b,c,time) in enumerate(coefficients):\n",
        "  print(f\"Temp for set {i+1} is: {temp_model(a,b,c,time)}\")"
      ],
      "metadata": {
        "colab": {
          "base_uri": "https://localhost:8080/"
        },
        "id": "gZVSiigu2tqV",
        "outputId": "c409b1cf-272d-4255-d2d3-4f3d6f8a2706"
      },
      "execution_count": 9,
      "outputs": [
        {
          "output_type": "stream",
          "name": "stdout",
          "text": [
            "Temp for set 1 is: 38.0\n",
            "Temp for set 2 is: 25.0\n"
          ]
        }
      ]
    }
  ]
}